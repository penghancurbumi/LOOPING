{
 "cells": [
  {
   "cell_type": "code",
   "execution_count": 2,
   "id": "c9a57567-8bb6-4f11-b6a4-9dec7d385a00",
   "metadata": {},
   "outputs": [
    {
     "name": "stdout",
     "output_type": "stream",
     "text": [
      "1 2 3 4 5 6 7 8 9 10 "
     ]
    }
   ],
   "source": [
    "#  mencatak nama 1 - 10\n",
    "\n",
    "for i in range(1,11):\n",
    "    print(i, end=\" \")"
   ]
  },
  {
   "cell_type": "code",
   "execution_count": null,
   "id": "2c204df2-188a-4e29-9b9f-4c67eec45527",
   "metadata": {},
   "outputs": [],
   "source": [
    "# mencetakk angka 10 20 30 --- 100\n",
    "for i in range(10,100):\n",
    "   print(i * 10, end=\" \") "
   ]
  },
  {
   "cell_type": "code",
   "execution_count": 5,
   "id": "7e38e347-dbf5-48a1-bc24-25300fa9046c",
   "metadata": {},
   "outputs": [
    {
     "name": "stdout",
     "output_type": "stream",
     "text": [
      "10 20 30 40 50 60 70 80 90 100 "
     ]
    }
   ],
   "source": [
    "# mencetakk angka 10 20 30 --- 100\n",
    "for i in range(10,101,10):\n",
    "    print(i, end=\" \")"
   ]
  },
  {
   "cell_type": "code",
   "execution_count": 7,
   "id": "a412fadb-6e99-46a4-93db-4e15b8d1b968",
   "metadata": {},
   "outputs": [
    {
     "name": "stdout",
     "output_type": "stream",
     "text": [
      "10 9 8 7 6 5 4 3 2 1 "
     ]
    }
   ],
   "source": [
    "#Mencetak angka 10 9 8 7 ... 1\n",
    "for i in range(1,11):\n",
    "    print(11 - i, end = \" \")"
   ]
  },
  {
   "cell_type": "code",
   "execution_count": 9,
   "id": "5ab1171d-470c-4489-94cd-aba39ebfe2ad",
   "metadata": {},
   "outputs": [
    {
     "name": "stdout",
     "output_type": "stream",
     "text": [
      "10 9 8 7 6 5 4 3 2 1 "
     ]
    }
   ],
   "source": [
    "for i in range(10,0,-1):\n",
    "    print(i, end=\" \")"
   ]
  },
  {
   "cell_type": "code",
   "execution_count": 2,
   "id": "4013ef45-54d8-4fb1-ad74-e4edb8bba8a7",
   "metadata": {},
   "outputs": [
    {
     "name": "stdout",
     "output_type": "stream",
     "text": [
      "1 -2 3 -4 5 -6 7 -8 9 -10 "
     ]
    }
   ],
   "source": [
    "#### mencetak 1 -2 3 -4 5 -6 ... 10\n",
    "sign = -1\n",
    "for i in range(1,11):\n",
    "    sign = sign  * -1\n",
    "    print(sign *i, end=\" \") "
   ]
  },
  {
   "cell_type": "code",
   "execution_count": 16,
   "id": "8d77d3a1-b92e-4488-b65e-a87608781930",
   "metadata": {},
   "outputs": [
    {
     "name": "stdin",
     "output_type": "stream",
     "text": [
      "isikan Bilangan : 2\n"
     ]
    },
    {
     "name": "stdout",
     "output_type": "stream",
     "text": [
      "2! adalah 2\n",
      "2 ^ 1 = 2\n"
     ]
    }
   ],
   "source": [
    "#Mencari bilangan faktorial \n",
    "# input = 3,output = 3 * 2 * 1 = 6\n",
    "# input = 4,output = 4 * 3 * 2 * 1 = 24\n",
    "\n",
    "bil = int(input('isikan Bilangan :'))\n",
    "\n",
    "hasil = 1\n",
    "label =\"\"\n",
    "for i in range(1, bil +1):\n",
    "    hasil = hasil * i\n",
    "    if i < bil:\n",
    "        label = label  + str(( bil+1)- i) + \" * \"\n",
    "    else: \n",
    "         label = label  + str(( bil+1)- i)\n",
    "print(f\"{bil}! adalah {hasil}\")\n",
    "print(f\"{label} = {hasil}\")"
   ]
  },
  {
   "cell_type": "code",
   "execution_count": 30,
   "id": "961c34d4-d790-467f-a8a0-f9a0e202935b",
   "metadata": {},
   "outputs": [
    {
     "name": "stdin",
     "output_type": "stream",
     "text": [
      "isikan Bilangan : 100\n",
      "isikan pangkat : 30\n"
     ]
    },
    {
     "name": "stdout",
     "output_type": "stream",
     "text": [
      "100! pangkat 30adalah 1000000000000000000000000000000000000000000000000000000000000\n"
     ]
    }
   ],
   "source": [
    "#Menghitung pangkat\n",
    "bil = int(input('isikan Bilangan :'))\n",
    "pangkat = int(input('isikan pangkat :'))\n",
    "hasil = 1\n",
    "for i in range(1, pangkat +1):\n",
    "    hasil *=  bil\n",
    "print(f\"{bil}! pangkat {pangkat} adalah {hasil}\")"
   ]
  },
  {
   "cell_type": "code",
   "execution_count": 41,
   "id": "2c6c8d3f-8a6e-4772-a3fd-427885a7fd21",
   "metadata": {},
   "outputs": [
    {
     "name": "stdin",
     "output_type": "stream",
     "text": [
      "masukan bilangan prima : 3\n"
     ]
    },
    {
     "name": "stdout",
     "output_type": "stream",
     "text": [
      "3 adalah bilangan bukan PRIMA\n"
     ]
    }
   ],
   "source": [
    "#mengecek bilangan prima atau bukan\n",
    "#Bil. prima adalah bilangan yang hanya habis dibagi dengan 1 dan bilangan itu sendiri => faktor\n",
    "bil = int(input(\"masukan bilangan prima :\")\n",
    "jumlah = 0 \n",
    " for i in range(1, bil + 1):\n",
    "    sisa = bil % i\n",
    "    if sisa == 0:\n",
    "        jumlah = jumlah + 1\n",
    "if jumlah == 2:\n",
    "      print(f\"{bil} adalah bilangan prima\")\n",
    "else :\n",
    "    print(f\"{bil} adalah bilangan prima\")"
   ]
  },
  {
   "cell_type": "code",
   "execution_count": 10,
   "id": "9e58bd16-9821-49e6-b919-70c5999b33cc",
   "metadata": {},
   "outputs": [
    {
     "name": "stdin",
     "output_type": "stream",
     "text": [
      "masukan bilangan prima : 7\n"
     ]
    },
    {
     "name": "stdout",
     "output_type": "stream",
     "text": [
      "7 adalah Bilangan Prima\n"
     ]
    }
   ],
   "source": [
    "bil = int(input(\"masukan bilangan prima :\"))\n",
    "keterangan = \"Bilangan Prima\"\n",
    "for i in range(2, bil):\n",
    "    sisa = bil % i\n",
    "    if sisa == 0:\n",
    "        keterangan =\"Bukan bilangan PRIMA\"\n",
    "        break\n",
    "print(f\"{bil} adalah {keterangan}\")"
   ]
  },
  {
   "cell_type": "code",
   "execution_count": 3,
   "id": "9867d840-b2a3-4772-8624-46963be2cdc7",
   "metadata": {},
   "outputs": [
    {
     "name": "stdout",
     "output_type": "stream",
     "text": [
      "1 2 3 4 5 \n",
      "1 2 3 4 6 7 8 9 "
     ]
    }
   ],
   "source": [
    "#break dan continue\n",
    "for i in range(1,100):\n",
    "    print(i, end=\" \")\n",
    "    if i==5:\n",
    "        break\n",
    "print()\n",
    "\n",
    "for j  in range(1,10):\n",
    "    if j == 5:\n",
    "        continue\n",
    "    print(j, end = \" \")"
   ]
  },
  {
   "cell_type": "code",
   "execution_count": 36,
   "id": "3c8ac46d-4e13-48fd-9acf-9e1310e6840c",
   "metadata": {},
   "outputs": [
    {
     "name": "stdin",
     "output_type": "stream",
     "text": [
      "isikan kalimat :  aku suka udang karena itu enak\n"
     ]
    },
    {
     "name": "stdout",
     "output_type": "stream",
     "text": [
      "Jumlah huruf a:6\n",
      "Jumlah huruf i:1\n",
      "Jumlah huruf u:4\n",
      "Jumlah huruf e:2\n",
      "Jumlah huruf o:0\n",
      "total huruf : 13\n"
     ]
    }
   ],
   "source": [
    "#Looping untuk string, menghitung huruf vokal a=?, i=?, u=?, e=?, o=?\n",
    "kalimat = input(\"isikan kalimat : \")\n",
    "vokal_a=0\n",
    "vokal_i=0\n",
    "vokal_u=0\n",
    "vokal_e=0\n",
    "vokal_o=0\n",
    "for i in kalimat:\n",
    "    if i=='a':\n",
    "        vokal_a += 1\n",
    "    elif i=='i':\n",
    "        vokal_i += 1\n",
    "    elif i=='u':\n",
    "        vokal_u += 1\n",
    "    elif i=='e':\n",
    "        vokal_e += 1\n",
    "    elif i=='o':\n",
    "        vokal_o += 1    \n",
    "print(f\"Jumlah huruf a:{vokal_a}\\nJumlah huruf i:{vokal_i}\\nJumlah huruf u:{vokal_u}\\nJumlah huruf e:{vokal_e}\\nJumlah huruf o:{vokal_o}\")\n",
    "total = vokal_a+vokal_i+vokal_u+vokal_e+vokal_o\n",
    "print(\"total huruf :\",total)"
   ]
  },
  {
   "cell_type": "code",
   "execution_count": null,
   "id": "3b395c1f-81c4-4138-baa3-3068587613dc",
   "metadata": {},
   "outputs": [],
   "source": [
    "#kalimat palidrome atau bukan \n",
    "#palidrome adalah kalimat yang di baca dari kiri ke kanan == kanan ke kiri\n",
    "#katak => palidrome\n",
    "#kasur rusak\n",
    "ulang = \"Y\"\n",
    "while(ulang==\"Y\"):\n",
    "    kalimat = input('isikan kalimat:')\n",
    "    panjang = len(kalimat)\n",
    "    keterangan = \"PALINDROME\"\n",
    "    for i in range(0,panjang):\n",
    "        kika = kalimat[i]\n",
    "        kaki = kalimat[panjang - i - 1].lower()\n",
    "        print(kika,kaki)\n",
    "        if kika != kaki:\n",
    "            keterangan = \"BUKAN PALINDROME\"\n",
    "            break\n",
    "    print(f\"{keterangan}\")\n",
    "    \n",
    "    jawab =\"\"\n",
    "    while(jawab!=\"Y\" and jawab !=\"T\"):\n",
    "        ulang =input(\"APAKAH MAU MENGULANG PROGRAM(Y/T):?\")\n",
    "    ulang = jawab "
   ]
  },
  {
   "cell_type": "markdown",
   "id": "1e268900-23f7-4847-813b-0301fb33e52e",
   "metadata": {},
   "source": [
    "#Nested FOR\n",
    "\n",
    "for i in range(1,5):\n",
    "    for j in range(1,5)\n",
    "        print(f\"i:{i}  dan j:{j}\")"
   ]
  },
  {
   "cell_type": "code",
   "execution_count": null,
   "id": "72ebd422-b710-4d1c-b20f-361d0daf0ccd",
   "metadata": {},
   "outputs": [],
   "source": []
  }
 ],
 "metadata": {
  "kernelspec": {
   "display_name": "Python 3 (ipykernel)",
   "language": "python",
   "name": "python3"
  },
  "language_info": {
   "codemirror_mode": {
    "name": "ipython",
    "version": 3
   },
   "file_extension": ".py",
   "mimetype": "text/x-python",
   "name": "python",
   "nbconvert_exporter": "python",
   "pygments_lexer": "ipython3",
   "version": "3.11.7"
  }
 },
 "nbformat": 4,
 "nbformat_minor": 5
}
